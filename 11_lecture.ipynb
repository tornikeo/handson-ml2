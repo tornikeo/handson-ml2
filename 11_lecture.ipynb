{
 "cells": [
  {
   "cell_type": "code",
   "execution_count": 175,
   "metadata": {},
   "outputs": [],
   "source": [
    "import tensorflow as tf\n",
    "import tensorflow.keras as keras\n",
    "from matplotlib import pyplot as plt\n",
    "import numpy as np\n",
    "import pandas as pd\n",
    "import math\n",
    "import os"
   ]
  },
  {
   "cell_type": "code",
   "execution_count": 2,
   "metadata": {},
   "outputs": [],
   "source": [
    "%load_ext autoreload\n",
    "%autoreload 2\n",
    "%matplotlib inline"
   ]
  },
  {
   "cell_type": "code",
   "execution_count": 6,
   "metadata": {},
   "outputs": [],
   "source": [
    "mnist_ds = keras.datasets.mnist\n",
    "(x_train_full, y_train_full), (x_test, y_test) = mnist_ds.load_data()"
   ]
  },
  {
   "cell_type": "code",
   "execution_count": 65,
   "metadata": {},
   "outputs": [
    {
     "data": {
      "image/png": "[encoded data removed]",
      "text/plain": [
       "<Figure size 432x288 with 4 Axes>"
      ]
     },
     "metadata": {
      "needs_background": "light"
     },
     "output_type": "display_data"
    }
   ],
   "source": [
    "fig, axes = plt.subplots(2,2)\n",
    "for ax, img, title in zip(axes.ravel(),x_train_full[:4],y_train_full[:4]):\n",
    "    ax.imshow(img)\n",
    "    ax.set_title(title)"
   ]
  },
  {
   "cell_type": "code",
   "execution_count": 73,
   "metadata": {},
   "outputs": [],
   "source": [
    "x_train = x_train_full[:55000]\n",
    "y_train = y_train_full[:55000]\n",
    "\n",
    "x_valid = x_train_full[55000:]\n",
    "y_valid = y_train_full[55000:]"
   ]
  },
  {
   "cell_type": "code",
   "execution_count": 84,
   "metadata": {},
   "outputs": [],
   "source": [
    "K = keras.backend\n",
    "def find_lr(model, x, y, min_lr=1e-5, max_lr=1e-1, \n",
    "            epochs=1, batch_size=32):\n",
    "    class ExpLr(keras.callbacks.Callback):\n",
    "        def __init__(self, factor, **kwargs):\n",
    "            super().__init__(**kwargs)\n",
    "            self.factor = factor\n",
    "            self.rates = []\n",
    "            self.losses = []\n",
    "        \n",
    "        def on_train_batch_end(self, batch, logs=None):\n",
    "            lr = K.get_value(self.model.optimizer.lr)\n",
    "            self.losses.append(logs['loss'])\n",
    "            self.rates.append(lr)\n",
    "            new_lr = lr * self.factor\n",
    "            K.set_value(self.model.optimizer.lr, new_lr)\n",
    "            \n",
    "    init_weights = model.get_weights()\n",
    "    init_lr = K.get_value(model.optimizer.lr)\n",
    "    \n",
    "    iters = len(x) // batch_size * epochs\n",
    "    factor = (max_lr / min_lr) ** (1 / iters)\n",
    "    explr = ExpLr(factor)\n",
    "    \n",
    "    model.fit(x,y,epochs=epochs,batch_size=batch_size,\n",
    "             callbacks=[explr])\n",
    "    \n",
    "    K.set_value(model.optimizer.lr, init_lr)\n",
    "    model.set_weights(init_weights)\n",
    "    return explr.rates, explr.losses"
   ]
  },
  {
   "cell_type": "code",
   "execution_count": 85,
   "metadata": {},
   "outputs": [],
   "source": [
    "def make_model(lr=1e-3):\n",
    "    model = keras.models.Sequential([\n",
    "        keras.layers.Input([28,28]),\n",
    "        keras.layers.Flatten(),\n",
    "        keras.layers.BatchNormalization(),\n",
    "        keras.layers.Dense(300),\n",
    "        keras.layers.LeakyReLU(alpha=0.2),\n",
    "        keras.layers.BatchNormalization(),\n",
    "        keras.layers.Dropout(0.1),\n",
    "        keras.layers.Dense(300),\n",
    "        keras.layers.LeakyReLU(alpha=0.2),\n",
    "        keras.layers.BatchNormalization(),\n",
    "        keras.layers.Dropout(0.1),\n",
    "        keras.layers.Dense(300),\n",
    "        keras.layers.LeakyReLU(alpha=0.2),\n",
    "        keras.layers.BatchNormalization(),\n",
    "        keras.layers.Dropout(0.1),\n",
    "        keras.layers.Dense(10, activation='softmax')\n",
    "    ])\n",
    "\n",
    "    optimizer = keras.optimizers.Adam(lr=lr)\n",
    "    model.compile(loss='sparse_categorical_crossentropy',\n",
    "                  optimizer=optimizer,\n",
    "                  metrics=['accuracy'])\n",
    "    return model"
   ]
  },
  {
   "cell_type": "code",
   "execution_count": 86,
   "metadata": {},
   "outputs": [
    {
     "name": "stdout",
     "output_type": "stream",
     "text": [
      "Train on 55000 samples\n",
      "55000/55000 [==============================] - 31s 573us/sample - loss: 3163.2674 - accuracy: 0.7168\n"
     ]
    }
   ],
   "source": [
    "rates, losses = find_lr(make_model(lr=1e-3), \n",
    "                        x_train, y_train, \n",
    "                       min_lr=1e-4, max_lr=1e0)"
   ]
  },
  {
   "cell_type": "code",
   "execution_count": 92,
   "metadata": {},
   "outputs": [
    {
     "data": {
      "text/plain": [
       "(0.025045648, 3.1079633)"
      ]
     },
     "execution_count": 92,
     "metadata": {},
     "output_type": "execute_result"
    },
    {
     "data": {
      "image/png": "[encoded data removed]",
      "text/plain": [
       "<Figure size 432x288 with 1 Axes>"
      ]
     },
     "metadata": {
      "needs_background": "light"
     },
     "output_type": "display_data"
    }
   ],
   "source": [
    "plt.loglog(rates, losses)\n",
    "plt.ylim([min(losses), (losses[0] + min(losses))])"
   ]
  },
  {
   "cell_type": "code",
   "execution_count": 187,
   "metadata": {},
   "outputs": [],
   "source": [
    "epochs = 20\n",
    "batch_size = 32\n",
    "steps = len(x_train) * epochs // batch_size\n",
    "# model = make_model(1e-3)\n",
    "# def fit_1cycle(batch, logs=None):\n",
    "\n",
    "def schedule_1cycle(model, steps, min_lr=1e-3, max_lr=1e-2):\n",
    "    t = tf.range(0, steps, dtype=tf.float32)\n",
    "    rates =  min_lr + max_lr * tf.math.sin(math.pi / (steps * 0.9) * t)\n",
    "    rates = tf.where(t < steps * 0.9, rates, min_lr * tf.math.exp(-(t-steps * 0.9)/(steps*0.025)))\n",
    "    \n",
    "    def schedule(batch, logs=None):\n",
    "        if len(rates == 1):\n",
    "            K.set_value(model.optimizer.lr, rates[0])\n",
    "        else:\n",
    "            K.set_value(model.optimizer.lr, rates.pop())"
   ]
  },
  {
   "cell_type": "code",
   "execution_count": 188,
   "metadata": {},
   "outputs": [
    {
     "name": "stdout",
     "output_type": "stream",
     "text": [
      "Train on 55000 samples, validate on 5000 samples\n",
      "Epoch 1/20\n",
      "55000/55000 [==============================] - 31s 567us/sample - loss: 0.2895 - accuracy: 0.9120 - val_loss: 0.3897 - val_accuracy: 0.9596\n",
      "Epoch 2/20\n",
      "55000/55000 [==============================] - 41s 739us/sample - loss: 0.1621 - accuracy: 0.9486 - val_loss: 0.4867 - val_accuracy: 0.9654\n",
      "Epoch 3/20\n",
      "55000/55000 [==============================] - 36s 651us/sample - loss: 0.1343 - accuracy: 0.9581 - val_loss: 1.2292 - val_accuracy: 0.9730\n",
      "Epoch 4/20\n",
      "55000/55000 [==============================] - 47s 850us/sample - loss: 0.1173 - accuracy: 0.9639 - val_loss: 0.9023 - val_accuracy: 0.9734\n",
      "Epoch 5/20\n",
      "55000/55000 [==============================] - 40s 723us/sample - loss: 0.0953 - accuracy: 0.9701 - val_loss: 0.4465 - val_accuracy: 0.9728\n",
      "Epoch 6/20\n",
      "55000/55000 [==============================] - 41s 745us/sample - loss: 0.0917 - accuracy: 0.9702 - val_loss: 1.6461 - val_accuracy: 0.9740\n",
      "Epoch 7/20\n",
      "55000/55000 [==============================] - 48s 864us/sample - loss: 0.0804 - accuracy: 0.9742 - val_loss: 0.3154 - val_accuracy: 0.9722\n",
      "Epoch 8/20\n",
      "55000/55000 [==============================] - 43s 779us/sample - loss: 0.0767 - accuracy: 0.9749 - val_loss: 1.4135 - val_accuracy: 0.9740\n",
      "Epoch 9/20\n",
      "55000/55000 [==============================] - 40s 720us/sample - loss: 0.0665 - accuracy: 0.9782 - val_loss: 0.7117 - val_accuracy: 0.9766\n",
      "Epoch 10/20\n",
      "55000/55000 [==============================] - 39s 710us/sample - loss: 0.0658 - accuracy: 0.9785 - val_loss: 1.2079 - val_accuracy: 0.9690\n",
      "Epoch 11/20\n",
      "55000/55000 [==============================] - 47s 849us/sample - loss: 0.0591 - accuracy: 0.9805 - val_loss: 0.8550 - val_accuracy: 0.9760\n",
      "Epoch 12/20\n",
      "55000/55000 [==============================] - 40s 721us/sample - loss: 0.0573 - accuracy: 0.9808 - val_loss: 1.7938 - val_accuracy: 0.9772\n",
      "Epoch 13/20\n",
      "55000/55000 [==============================] - 39s 705us/sample - loss: 0.0556 - accuracy: 0.9827 - val_loss: 0.2776 - val_accuracy: 0.9806\n",
      "Epoch 14/20\n",
      "55000/55000 [==============================] - 33s 601us/sample - loss: 0.0514 - accuracy: 0.9833 - val_loss: 0.3659 - val_accuracy: 0.9758\n",
      "Epoch 15/20\n",
      "55000/55000 [==============================] - 34s 625us/sample - loss: 0.0475 - accuracy: 0.9849 - val_loss: 1.0795 - val_accuracy: 0.9758\n",
      "Epoch 16/20\n",
      "55000/55000 [==============================] - 32s 573us/sample - loss: 0.0445 - accuracy: 0.9849 - val_loss: 1.5673 - val_accuracy: 0.9760\n",
      "Epoch 17/20\n",
      "55000/55000 [==============================] - 40s 736us/sample - loss: 0.0428 - accuracy: 0.9856 - val_loss: 1.3932 - val_accuracy: 0.9732\n",
      "Epoch 18/20\n",
      "55000/55000 [==============================] - 41s 751us/sample - loss: 0.0438 - accuracy: 0.9859 - val_loss: 0.5578 - val_accuracy: 0.9780\n",
      "Epoch 19/20\n",
      "55000/55000 [==============================] - 40s 721us/sample - loss: 0.0411 - accuracy: 0.9857 - val_loss: 1.2918 - val_accuracy: 0.9774\n",
      "Epoch 20/20\n",
      "55000/55000 [==============================] - 42s 764us/sample - loss: 0.0385 - accuracy: 0.9870 - val_loss: 0.9033 - val_accuracy: 0.9764\n"
     ]
    },
    {
     "data": {
      "text/plain": [
       "<tensorflow.python.keras.callbacks.History at 0x7fb5616cf290>"
      ]
     },
     "execution_count": 188,
     "metadata": {},
     "output_type": "execute_result"
    }
   ],
   "source": [
    "model = make_model(lr=1e-3)\n",
    "\n",
    "os.makedirs('models/11_lecture/', exist_ok=True)\n",
    "cyclelr_cb = keras.callbacks.LambdaCallback(on_batch_end=schedule_1cycle(model,steps, min_lr=1e-3, max_lr=1e-2))\n",
    "save_model = keras.callbacks.ModelCheckpoint('models/11_lecture/mnist-stage-1.h5', save_best_only=True)\n",
    "early_stopping = keras.callbacks.EarlyStopping(patience=10,restore_best_weights=True)\n",
    "\n",
    "model.fit(x_train, y_train,\n",
    "          epochs=epochs,\n",
    "          batch_size=batch_size,\n",
    "          callbacks=[cyclelr_cb, save_model, early_stopping],\n",
    "          validation_data=(x_valid, y_valid),\n",
    "         )"
   ]
  },
  {
   "cell_type": "code",
   "execution_count": 189,
   "metadata": {},
   "outputs": [
    {
     "name": "stdout",
     "output_type": "stream",
     "text": [
      "10000/10000 [==============================] - 2s 157us/sample - loss: 0.6176 - accuracy: 0.9742\n"
     ]
    },
    {
     "data": {
      "text/plain": [
       "[0.6176494937248994, 0.9742]"
      ]
     },
     "execution_count": 189,
     "metadata": {},
     "output_type": "execute_result"
    }
   ],
   "source": [
    "model = keras.models.load_model('models/11_lecture/mnist-stage-1.h5')\n",
    "model.evaluate(x_test, y_test)"
   ]
  },
  {
   "cell_type": "code",
   "execution_count": null,
   "metadata": {},
   "outputs": [],
   "source": []
  }
 ],
 "metadata": {
  "kernelspec": {
   "display_name": "Python 3",
   "language": "python",
   "name": "python3"
  },
  "language_info": {
   "codemirror_mode": {
    "name": "ipython",
    "version": 3
   },
   "file_extension": ".py",
   "mimetype": "text/x-python",
   "name": "python",
   "nbconvert_exporter": "python",
   "pygments_lexer": "ipython3",
   "version": "3.7.7"
  }
 },
 "nbformat": 4,
 "nbformat_minor": 4
}
