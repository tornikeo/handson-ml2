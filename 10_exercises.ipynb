{
 "cells": [
  {
   "cell_type": "code",
   "execution_count": 1,
   "metadata": {},
   "outputs": [],
   "source": [
    "import tensorflow as tf\n",
    "import tensorflow.keras as keras\n",
    "import numpy as np\n",
    "import matplotlib.pyplot as plt\n",
    "import pandas as pd\n",
    "import os"
   ]
  },
  {
   "cell_type": "code",
   "execution_count": 2,
   "metadata": {},
   "outputs": [],
   "source": [
    "%load_ext autoreload\n",
    "%autoreload 2\n",
    "%matplotlib inline"
   ]
  },
  {
   "cell_type": "code",
   "execution_count": 4,
   "metadata": {},
   "outputs": [],
   "source": [
    "mnist = keras.datasets.mnist\n",
    "(x_train, y_train), (x_test, y_test) = mnist.load_data()"
   ]
  },
  {
   "cell_type": "code",
   "execution_count": 37,
   "metadata": {},
   "outputs": [],
   "source": [
    "K = keras.backend\n",
    "class ExponLR(keras.callbacks.Callback):\n",
    "    def __init__(self, factor, **kwargs):\n",
    "        super().__init__(**kwargs)\n",
    "        self.factor = factor\n",
    "        self.rates = []\n",
    "        self.losses = []\n",
    "    \n",
    "    def on_train_batch_end(self, batch, logs=None):\n",
    "        rate = K.get_value(self.model.optimizer.lr)\n",
    "        new_rate = rate * self.factor\n",
    "        \n",
    "        K.set_value(self.model.optimizer.lr, new_rate)\n",
    "        \n",
    "        self.losses.append(logs['loss'])\n",
    "        self.rates.append(rate)"
   ]
  },
  {
   "cell_type": "code",
   "execution_count": 67,
   "metadata": {},
   "outputs": [],
   "source": [
    "def make_model(lr=1e-3):\n",
    "    model = keras.models.Sequential([\n",
    "        keras.layers.Input([28,28]),\n",
    "        keras.layers.Flatten(),\n",
    "        keras.layers.BatchNormalization(),\n",
    "        keras.layers.Dense(500,activation='relu'),\n",
    "        keras.layers.Dropout(0.5),\n",
    "        keras.layers.BatchNormalization(),\n",
    "        keras.layers.Dense(500,activation='relu'),\n",
    "        keras.layers.Dropout(0.5),\n",
    "        keras.layers.Dense(10, activation='softmax'),\n",
    "    ])\n",
    "\n",
    "    model.compile(loss='sparse_categorical_crossentropy',\n",
    "                  optimizer=keras.optimizers.RMSprop(lr=lr),\n",
    "                  metrics=['accuracy'],\n",
    "                 )\n",
    "    return model"
   ]
  },
  {
   "cell_type": "code",
   "execution_count": 70,
   "metadata": {},
   "outputs": [
    {
     "name": "stdout",
     "output_type": "stream",
     "text": [
      "Train on 60000 samples\n",
      "60000/60000 [==============================] - 25s 410us/sample - loss: 135.6814 - accuracy: 0.5296\n"
     ]
    }
   ],
   "source": [
    "min_lr = 1e-3\n",
    "max_lr = 1e0\n",
    "bs = 64\n",
    "model = make_model(lr=min_lr)\n",
    "iters = len(x_train) // bs\n",
    "factor = (max_lr/min_lr) ** (1/iters)\n",
    "exponlr_cb = ExponLR(factor)\n",
    "model.fit(x_train, y_train,\n",
    "          epochs=1,\n",
    "          batch_size=bs,\n",
    "          callbacks=[exponlr_cb]\n",
    "         )\n",
    "rates, losses = exponlr_cb.rates, exponlr_cb.losses"
   ]
  },
  {
   "cell_type": "code",
   "execution_count": 71,
   "metadata": {},
   "outputs": [
    {
     "data": {
      "image/png": "[encoded data removed]",
      "text/plain": [
       "<Figure size 432x288 with 1 Axes>"
      ]
     },
     "metadata": {
      "needs_background": "light"
     },
     "output_type": "display_data"
    }
   ],
   "source": [
    "# plt.plot(rates, losses)\n",
    "# plt.gca().set_xscale('log')\n",
    "plt.loglog(rates, losses)\n",
    "plt.ylim([min(losses), (losses[0] + min(losses))])\n",
    "plt.show()"
   ]
  },
  {
   "cell_type": "code",
   "execution_count": 76,
   "metadata": {},
   "outputs": [
    {
     "name": "stdout",
     "output_type": "stream",
     "text": [
      "Train on 54000 samples, validate on 6000 samples\n",
      "Epoch 1/40\n",
      "54000/54000 [==============================] - 24s 439us/sample - loss: 0.2479 - accuracy: 0.9365 - val_loss: 1.1791 - val_accuracy: 0.9753\n",
      "Epoch 2/40\n",
      "54000/54000 [==============================] - 23s 424us/sample - loss: 0.2194 - accuracy: 0.9451 - val_loss: 0.8045 - val_accuracy: 0.9742\n",
      "Epoch 3/40\n",
      "54000/54000 [==============================] - 24s 446us/sample - loss: 0.2127 - accuracy: 0.9487 - val_loss: 2.4711 - val_accuracy: 0.9767\n",
      "Epoch 4/40\n",
      "54000/54000 [==============================] - 25s 457us/sample - loss: 0.2029 - accuracy: 0.9507 - val_loss: 1.0569 - val_accuracy: 0.9777\n",
      "Epoch 5/40\n",
      "54000/54000 [==============================] - 25s 458us/sample - loss: 0.2108 - accuracy: 0.9512 - val_loss: 2.3502 - val_accuracy: 0.9780\n",
      "Epoch 6/40\n",
      "54000/54000 [==============================] - 25s 454us/sample - loss: 0.2028 - accuracy: 0.9533 - val_loss: 1.0848 - val_accuracy: 0.9802\n",
      "Epoch 7/40\n",
      "54000/54000 [==============================] - 28s 513us/sample - loss: 0.1902 - accuracy: 0.9559 - val_loss: 1.1431 - val_accuracy: 0.9793\n",
      "Epoch 8/40\n",
      "54000/54000 [==============================] - 25s 454us/sample - loss: 0.2039 - accuracy: 0.9544 - val_loss: 0.9251 - val_accuracy: 0.9810\n",
      "Epoch 9/40\n",
      "54000/54000 [==============================] - 25s 459us/sample - loss: 0.2093 - accuracy: 0.9551 - val_loss: 1.1721 - val_accuracy: 0.9798\n",
      "Epoch 10/40\n",
      "54000/54000 [==============================] - 24s 452us/sample - loss: 0.1927 - accuracy: 0.9574 - val_loss: 0.8469 - val_accuracy: 0.9802\n",
      "Epoch 11/40\n",
      "54000/54000 [==============================] - 24s 451us/sample - loss: 0.2064 - accuracy: 0.9562 - val_loss: 3.5734 - val_accuracy: 0.9780\n",
      "Epoch 12/40\n",
      "54000/54000 [==============================] - 25s 471us/sample - loss: 0.2021 - accuracy: 0.9562 - val_loss: 1.9057 - val_accuracy: 0.9790\n",
      "Epoch 13/40\n",
      "54000/54000 [==============================] - 25s 467us/sample - loss: 0.2017 - accuracy: 0.9571 - val_loss: 2.5594 - val_accuracy: 0.9780\n",
      "Epoch 14/40\n",
      "54000/54000 [==============================] - 25s 456us/sample - loss: 0.1741 - accuracy: 0.9626 - val_loss: 4.4919 - val_accuracy: 0.9803\n",
      "Epoch 15/40\n",
      "54000/54000 [==============================] - 24s 453us/sample - loss: 0.1667 - accuracy: 0.9651 - val_loss: 4.4344 - val_accuracy: 0.9812\n",
      "Epoch 16/40\n",
      "54000/54000 [==============================] - 25s 471us/sample - loss: 0.1582 - accuracy: 0.9660 - val_loss: 3.1379 - val_accuracy: 0.9807\n",
      "Epoch 17/40\n",
      "54000/54000 [==============================] - 22s 414us/sample - loss: 0.1565 - accuracy: 0.9668 - val_loss: 2.7938 - val_accuracy: 0.9812\n",
      "Epoch 18/40\n",
      "54000/54000 [==============================] - 23s 422us/sample - loss: 0.1555 - accuracy: 0.9663 - val_loss: 4.0192 - val_accuracy: 0.9797\n",
      "Epoch 19/40\n",
      "54000/54000 [==============================] - 22s 399us/sample - loss: 0.1578 - accuracy: 0.9670 - val_loss: 6.1350 - val_accuracy: 0.9812\n",
      "Epoch 20/40\n",
      "54000/54000 [==============================] - 22s 415us/sample - loss: 0.1483 - accuracy: 0.9679 - val_loss: 5.3403 - val_accuracy: 0.9818\n",
      "Epoch 21/40\n",
      "54000/54000 [==============================] - 22s 411us/sample - loss: 0.1507 - accuracy: 0.9688 - val_loss: 7.3329 - val_accuracy: 0.9812\n",
      "Epoch 22/40\n",
      "54000/54000 [==============================] - 24s 445us/sample - loss: 0.1545 - accuracy: 0.9689 - val_loss: 3.6830 - val_accuracy: 0.9818\n",
      "Epoch 23/40\n",
      "54000/54000 [==============================] - 29s 533us/sample - loss: 0.1530 - accuracy: 0.9689 - val_loss: 7.6879 - val_accuracy: 0.9813\n",
      "Epoch 24/40\n",
      "54000/54000 [==============================] - 26s 490us/sample - loss: 0.1481 - accuracy: 0.9698 - val_loss: 4.5508 - val_accuracy: 0.9813\n",
      "Epoch 25/40\n",
      "54000/54000 [==============================] - 26s 483us/sample - loss: 0.1469 - accuracy: 0.9698 - val_loss: 9.4001 - val_accuracy: 0.9823\n",
      "Epoch 26/40\n",
      "54000/54000 [==============================] - 28s 514us/sample - loss: 0.1400 - accuracy: 0.9710 - val_loss: 2.8094 - val_accuracy: 0.9818\n",
      "Epoch 27/40\n",
      "54000/54000 [==============================] - 24s 448us/sample - loss: 0.1469 - accuracy: 0.9706 - val_loss: 5.9715 - val_accuracy: 0.9818\n",
      "Epoch 28/40\n",
      "54000/54000 [==============================] - 27s 498us/sample - loss: 0.1488 - accuracy: 0.9704 - val_loss: 6.3780 - val_accuracy: 0.9830\n",
      "Epoch 29/40\n",
      "54000/54000 [==============================] - 22s 416us/sample - loss: 0.1404 - accuracy: 0.9709 - val_loss: 11.8087 - val_accuracy: 0.9823\n",
      "Epoch 30/40\n",
      "54000/54000 [==============================] - 22s 410us/sample - loss: 0.1456 - accuracy: 0.9700 - val_loss: 4.6657 - val_accuracy: 0.9818\n",
      "Epoch 31/40\n",
      "54000/54000 [==============================] - 23s 432us/sample - loss: 0.1448 - accuracy: 0.9714 - val_loss: 3.8199 - val_accuracy: 0.9823\n",
      "Epoch 32/40\n",
      "54000/54000 [==============================] - 26s 476us/sample - loss: 0.1404 - accuracy: 0.9713 - val_loss: 10.5159 - val_accuracy: 0.9832\n",
      "Epoch 33/40\n",
      "54000/54000 [==============================] - 24s 451us/sample - loss: 0.1412 - accuracy: 0.9713 - val_loss: 5.0880 - val_accuracy: 0.9822\n",
      "Epoch 34/40\n",
      "54000/54000 [==============================] - 25s 470us/sample - loss: 0.1297 - accuracy: 0.9722 - val_loss: 5.3129 - val_accuracy: 0.9822\n",
      "Epoch 35/40\n",
      "54000/54000 [==============================] - 23s 420us/sample - loss: 0.1458 - accuracy: 0.9718 - val_loss: 3.3805 - val_accuracy: 0.9825\n",
      "Epoch 36/40\n",
      "54000/54000 [==============================] - 29s 530us/sample - loss: 0.1363 - accuracy: 0.9717 - val_loss: 2.1232 - val_accuracy: 0.9832\n",
      "Epoch 37/40\n",
      "54000/54000 [==============================] - 27s 500us/sample - loss: 0.1364 - accuracy: 0.9713 - val_loss: 5.2891 - val_accuracy: 0.9830\n",
      "Epoch 38/40\n",
      "54000/54000 [==============================] - 28s 519us/sample - loss: 0.1295 - accuracy: 0.9735 - val_loss: 6.0803 - val_accuracy: 0.9825\n",
      "Epoch 39/40\n",
      "54000/54000 [==============================] - 22s 415us/sample - loss: 0.1345 - accuracy: 0.9728 - val_loss: 9.4369 - val_accuracy: 0.9823\n",
      "Epoch 40/40\n",
      "54000/54000 [==============================] - 22s 402us/sample - loss: 0.1292 - accuracy: 0.9736 - val_loss: 8.6681 - val_accuracy: 0.9820\n"
     ]
    },
    {
     "data": {
      "text/plain": [
       "<tensorflow.python.keras.callbacks.History at 0x7ff9390fe2d0>"
      ]
     },
     "execution_count": 76,
     "metadata": {},
     "output_type": "execute_result"
    }
   ],
   "source": [
    "keras.backend.clear_session()\n",
    "\n",
    "# model = make_model(lr=1e-3)\n",
    "model = keras.models.load_model('models/10_lecture/mnist_stage_1.h5')\n",
    "K.set_value(model.optimizer.lr, 1e-3)\n",
    "earlystopping_cb = keras.callbacks.EarlyStopping(patience=10,\n",
    "                                                 monitor='val_accuracy',\n",
    "                                                restore_best_weights=True)\n",
    "reducelr_cb = keras.callbacks.ReduceLROnPlateau(patience=5,\n",
    "                                               monitor='val_accuracy'\n",
    "                                               )\n",
    "chkpoint_cb = keras.callbacks.ModelCheckpoint('models/10_lecture/mnist_stage_2.h5',\n",
    "                                               monitor='val_accuracy',\n",
    "                                               save_best_only=True)\n",
    "model.fit(x_train, y_train,\n",
    "          epochs=40,\n",
    "          validation_split=0.1,\n",
    "          batch_size=64,\n",
    "          callbacks=[earlystopping_cb,reducelr_cb,chkpoint_cb],)"
   ]
  },
  {
   "cell_type": "code",
   "execution_count": 78,
   "metadata": {},
   "outputs": [
    {
     "name": "stdout",
     "output_type": "stream",
     "text": [
      "10000/10000 [==============================] - 3s 298us/sample - loss: 4.8638 - accuracy: 0.9778\n"
     ]
    },
    {
     "data": {
      "text/plain": [
       "[4.863849951326185, 0.9778]"
      ]
     },
     "execution_count": 78,
     "metadata": {},
     "output_type": "execute_result"
    }
   ],
   "source": [
    "model = keras.models.load_model('models/10_lecture/mnist_stage_2.h5')\n",
    "model.evaluate(x_test, y_test)"
   ]
  },
  {
   "cell_type": "code",
   "execution_count": null,
   "metadata": {},
   "outputs": [],
   "source": []
  }
 ],
 "metadata": {
  "kernelspec": {
   "display_name": "Python 3",
   "language": "python",
   "name": "python3"
  },
  "language_info": {
   "codemirror_mode": {
    "name": "ipython",
    "version": 3
   },
   "file_extension": ".py",
   "mimetype": "text/x-python",
   "name": "python",
   "nbconvert_exporter": "python",
   "pygments_lexer": "ipython3",
   "version": "3.7.7"
  }
 },
 "nbformat": 4,
 "nbformat_minor": 4
}
