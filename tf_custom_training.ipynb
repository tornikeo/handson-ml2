{
 "cells": [
  {
   "cell_type": "code",
   "execution_count": 9,
   "metadata": {},
   "outputs": [],
   "source": [
    "import os\n",
    "import matplotlib.pyplot as plt\n",
    "import tensorflow as tf\n",
    "import tensorflow.keras as keras"
   ]
  },
  {
   "cell_type": "code",
   "execution_count": 10,
   "metadata": {},
   "outputs": [
    {
     "name": "stdout",
     "output_type": "stream",
     "text": [
      "TF version 2.2.0\n",
      "Eager Execution True\n"
     ]
    }
   ],
   "source": [
    "print(\"TF version\", tf.__version__)\n",
    "print(\"Eager Execution\", tf.executing_eagerly())"
   ]
  },
  {
   "cell_type": "code",
   "execution_count": 15,
   "metadata": {},
   "outputs": [
    {
     "name": "stdout",
     "output_type": "stream",
     "text": [
      "Local copy of the dataset file:  /home/tornike/.keras/datasets/iris_training.csv\n"
     ]
    }
   ],
   "source": [
    "train_dataset_url = \"https://storage.googleapis.com/download.tensorflow.org/data/iris_training.csv\"\n",
    "\n",
    "train_dataset_fp = keras.utils.get_file(fname=os.path.basename(train_dataset_url),\n",
    "                                        origin=train_dataset_url,\n",
    "                                       )\n",
    "print(\"Local copy of the dataset file: \", train_dataset_fp)"
   ]
  },
  {
   "cell_type": "code",
   "execution_count": 20,
   "metadata": {},
   "outputs": [
    {
     "name": "stdout",
     "output_type": "stream",
     "text": [
      "120,4,setosa,versicolor,virginica\r\n",
      "6.4,2.8,5.6,2.2,2\r\n",
      "5.0,2.3,3.3,1.0,1\r\n",
      "4.9,2.5,4.5,1.7,2\r\n",
      "4.9,3.1,1.5,0.1,0\r\n"
     ]
    }
   ],
   "source": [
    "!head -n5 {train_dataset_fp}"
   ]
  },
  {
   "cell_type": "code",
   "execution_count": 31,
   "metadata": {},
   "outputs": [],
   "source": [
    "column_names = ['sepal_length', 'sepal_width', 'petal_length', 'petal_width', 'species']\n",
    "feature_names = column_names[:-1]\n",
    "label_name = column_names[-1]\n"
   ]
  },
  {
   "cell_type": "code",
   "execution_count": 34,
   "metadata": {},
   "outputs": [],
   "source": [
    "batch_size = 32\n",
    "\n",
    "train_dataset = tf.data.experimental.make_csv_dataset(\n",
    "    train_dataset_fp,\n",
    "    batch_size=batch_size,\n",
    "    column_names=column_names,\n",
    "    label_name=label_name,\n",
    "    num_epochs=1\n",
    ")"
   ]
  },
  {
   "cell_type": "code",
   "execution_count": 36,
   "metadata": {},
   "outputs": [
    {
     "name": "stdout",
     "output_type": "stream",
     "text": [
      "OrderedDict([('sepal_length', <tf.Tensor: shape=(32,), dtype=float32, numpy=\n",
      "array([6. , 7.2, 6.5, 5.7, 5. , 4.4, 7.2, 6. , 6.4, 6.8, 6.7, 7.3, 6.8,\n",
      "       5. , 6.8, 6.3, 4.9, 6.6, 6.1, 6.5, 5.7, 5.1, 6.7, 4.9, 6.4, 4.8,\n",
      "       4.9, 6.1, 7.2, 4.9, 7.7, 6.2], dtype=float32)>), ('sepal_width', <tf.Tensor: shape=(32,), dtype=float32, numpy=\n",
      "array([2.7, 3.2, 3. , 4.4, 2. , 3.2, 3. , 2.9, 3.2, 2.8, 3. , 2.9, 3. ,\n",
      "       3.5, 3.2, 2.7, 3.1, 2.9, 2.6, 3. , 2.9, 3.8, 3.1, 3.1, 3.2, 3. ,\n",
      "       2.5, 3. , 3.6, 2.4, 2.6, 2.2], dtype=float32)>), ('petal_length', <tf.Tensor: shape=(32,), dtype=float32, numpy=\n",
      "array([5.1, 6. , 5.2, 1.5, 3.5, 1.3, 5.8, 4.5, 4.5, 4.8, 5.2, 6.3, 5.5,\n",
      "       1.3, 5.9, 4.9, 1.5, 4.6, 5.6, 5.8, 4.2, 1.9, 4.4, 1.5, 5.3, 1.4,\n",
      "       4.5, 4.9, 6.1, 3.3, 6.9, 4.5], dtype=float32)>), ('petal_width', <tf.Tensor: shape=(32,), dtype=float32, numpy=\n",
      "array([1.6, 1.8, 2. , 0.4, 1. , 0.2, 1.6, 1.5, 1.5, 1.4, 2.3, 1.8, 2.1,\n",
      "       0.3, 2.3, 1.8, 0.1, 1.3, 1.4, 2.2, 1.3, 0.4, 1.4, 0.1, 2.3, 0.1,\n",
      "       1.7, 1.8, 2.5, 1. , 2.3, 1.5], dtype=float32)>)])\n"
     ]
    }
   ],
   "source": [
    "features, labels = next(iter(train_dataset))\n",
    "print(features)"
   ]
  },
  {
   "cell_type": "code",
   "execution_count": 42,
   "metadata": {},
   "outputs": [
    {
     "data": {
      "image/png": "[encoded data removed]",
      "text/plain": [
       "<Figure size 432x288 with 1 Axes>"
      ]
     },
     "metadata": {
      "needs_background": "light"
     },
     "output_type": "display_data"
    }
   ],
   "source": [
    "plt.scatter(features['petal_length'], \n",
    "            features['sepal_length'],\n",
    "            c=labels,\n",
    "            cmap='viridis')\n",
    "plt.show()"
   ]
  },
  {
   "cell_type": "code",
   "execution_count": 48,
   "metadata": {},
   "outputs": [
    {
     "data": {
      "text/plain": [
       "(<tf.Tensor: shape=(32, 4), dtype=float32, numpy=\n",
       " array([[6. , 2.7, 5.1, 1.6],\n",
       "        [7.2, 3.2, 6. , 1.8],\n",
       "        [6.5, 3. , 5.2, 2. ],\n",
       "        [5.7, 4.4, 1.5, 0.4],\n",
       "        [5. , 2. , 3.5, 1. ],\n",
       "        [4.4, 3.2, 1.3, 0.2],\n",
       "        [7.2, 3. , 5.8, 1.6],\n",
       "        [6. , 2.9, 4.5, 1.5],\n",
       "        [6.4, 3.2, 4.5, 1.5],\n",
       "        [6.8, 2.8, 4.8, 1.4],\n",
       "        [6.7, 3. , 5.2, 2.3],\n",
       "        [7.3, 2.9, 6.3, 1.8],\n",
       "        [6.8, 3. , 5.5, 2.1],\n",
       "        [5. , 3.5, 1.3, 0.3],\n",
       "        [6.8, 3.2, 5.9, 2.3],\n",
       "        [6.3, 2.7, 4.9, 1.8],\n",
       "        [4.9, 3.1, 1.5, 0.1],\n",
       "        [6.6, 2.9, 4.6, 1.3],\n",
       "        [6.1, 2.6, 5.6, 1.4],\n",
       "        [6.5, 3. , 5.8, 2.2],\n",
       "        [5.7, 2.9, 4.2, 1.3],\n",
       "        [5.1, 3.8, 1.9, 0.4],\n",
       "        [6.7, 3.1, 4.4, 1.4],\n",
       "        [4.9, 3.1, 1.5, 0.1],\n",
       "        [6.4, 3.2, 5.3, 2.3],\n",
       "        [4.8, 3. , 1.4, 0.1],\n",
       "        [4.9, 2.5, 4.5, 1.7],\n",
       "        [6.1, 3. , 4.9, 1.8],\n",
       "        [7.2, 3.6, 6.1, 2.5],\n",
       "        [4.9, 2.4, 3.3, 1. ],\n",
       "        [7.7, 2.6, 6.9, 2.3],\n",
       "        [6.2, 2.2, 4.5, 1.5]], dtype=float32)>,\n",
       " <tf.Tensor: shape=(32,), dtype=int32, numpy=\n",
       " array([1, 2, 2, 0, 1, 0, 2, 1, 1, 1, 2, 2, 2, 0, 2, 2, 0, 1, 2, 2, 1, 0,\n",
       "        1, 0, 2, 0, 2, 2, 2, 1, 2, 1], dtype=int32)>)"
      ]
     },
     "execution_count": 48,
     "metadata": {},
     "output_type": "execute_result"
    }
   ],
   "source": [
    "def pack_features_vector(features, labels):\n",
    "    return tf.stack(list(features.values()), axis=1), labels\n",
    "\n",
    "pack_features_vector(features, labels)"
   ]
  },
  {
   "cell_type": "code",
   "execution_count": 49,
   "metadata": {},
   "outputs": [],
   "source": [
    "train_dataset = train_dataset.map(pack_features_vector)"
   ]
  },
  {
   "cell_type": "code",
   "execution_count": 71,
   "metadata": {},
   "outputs": [
    {
     "name": "stdout",
     "output_type": "stream",
     "text": [
      "tf.Tensor(\n",
      "[[4.8 3.  1.4 0.1]\n",
      " [5.8 2.7 5.1 1.9]\n",
      " [5.  2.3 3.3 1. ]\n",
      " [5.7 2.9 4.2 1.3]\n",
      " [6.8 3.2 5.9 2.3]], shape=(5, 4), dtype=float32) tf.Tensor([0 2 1 1 2], shape=(5,), dtype=int32)\n"
     ]
    }
   ],
   "source": [
    "features, labels = next(iter(train_dataset))\n",
    "print(features[:5], labels[:5])"
   ]
  },
  {
   "cell_type": "code",
   "execution_count": 81,
   "metadata": {},
   "outputs": [],
   "source": [
    "model = keras.models.Sequential([\n",
    "    keras.layers.Dense(10, activation=tf.nn.relu, input_shape=(4,)),\n",
    "    keras.layers.Dense(10, activation=tf.nn.relu,),\n",
    "    keras.layers.Dense(3)\n",
    "])"
   ]
  },
  {
   "cell_type": "code",
   "execution_count": 83,
   "metadata": {},
   "outputs": [
    {
     "data": {
      "text/plain": [
       "<tf.Tensor: shape=(5, 3), dtype=float32, numpy=\n",
       "array([[ 0.9636421 , -1.044702  ,  0.90786994],\n",
       "       [ 2.3931646 , -1.4787183 ,  1.7375613 ],\n",
       "       [ 1.665935  , -1.1610669 ,  1.4102316 ],\n",
       "       [ 2.0304418 , -1.3669324 ,  1.6215563 ],\n",
       "       [ 2.804746  , -1.7004924 ,  1.9909458 ]], dtype=float32)>"
      ]
     },
     "execution_count": 83,
     "metadata": {},
     "output_type": "execute_result"
    }
   ],
   "source": [
    "predictions = model(features)\n",
    "\n",
    "predictions[:5]"
   ]
  },
  {
   "cell_type": "code",
   "execution_count": 84,
   "metadata": {},
   "outputs": [
    {
     "data": {
      "text/plain": [
       "<tf.Tensor: shape=(32, 3), dtype=float32, numpy=\n",
       "array([[0.48077723, 0.06452546, 0.45469728],\n",
       "       [0.6493726 , 0.01351937, 0.33710802],\n",
       "       [0.5453866 , 0.03228145, 0.42233187],\n",
       "       [0.5889797 , 0.01970786, 0.39131242],\n",
       "       [0.68765306, 0.00759922, 0.30474776],\n",
       "       [0.507869  , 0.06394568, 0.4281854 ],\n",
       "       [0.55240256, 0.01331765, 0.4342798 ],\n",
       "       [0.5555823 , 0.05916836, 0.38524938],\n",
       "       [0.5839463 , 0.01978344, 0.3962703 ],\n",
       "       [0.58101463, 0.01069816, 0.40828726],\n",
       "       [0.6420842 , 0.01374647, 0.34416938],\n",
       "       [0.5629596 , 0.01332114, 0.42371923],\n",
       "       [0.53176206, 0.06060243, 0.4076356 ],\n",
       "       [0.56732106, 0.0120716 , 0.4206074 ],\n",
       "       [0.5035071 , 0.07135309, 0.42513984],\n",
       "       [0.49629074, 0.0783752 , 0.4253341 ],\n",
       "       [0.5130219 , 0.06589003, 0.42108804],\n",
       "       [0.56376636, 0.01952354, 0.41671014],\n",
       "       [0.6355478 , 0.01007467, 0.35437754],\n",
       "       [0.49470508, 0.07014918, 0.43514574],\n",
       "       [0.6493726 , 0.01351937, 0.33710802],\n",
       "       [0.7131926 , 0.01387239, 0.2729351 ],\n",
       "       [0.57565427, 0.01343456, 0.41091123],\n",
       "       [0.6716392 , 0.00852023, 0.31984052],\n",
       "       [0.532714  , 0.05198953, 0.41529644],\n",
       "       [0.6402625 , 0.02241433, 0.33732307],\n",
       "       [0.7145421 , 0.00647991, 0.27897796],\n",
       "       [0.55238014, 0.02117075, 0.42644918],\n",
       "       [0.6533398 , 0.01583209, 0.33082813],\n",
       "       [0.5046892 , 0.06220638, 0.4331044 ],\n",
       "       [0.500134  , 0.07296072, 0.4269053 ],\n",
       "       [0.62036836, 0.00595162, 0.37368   ]], dtype=float32)>"
      ]
     },
     "execution_count": 84,
     "metadata": {},
     "output_type": "execute_result"
    }
   ],
   "source": [
    "tf.nn.softmax(predictions)"
   ]
  },
  {
   "cell_type": "code",
   "execution_count": 91,
   "metadata": {},
   "outputs": [
    {
     "name": "stdout",
     "output_type": "stream",
     "text": [
      "[0 0 0 0 0 0 0 0 0 0 0 0 0 0 0 0 0 0 0 0 0 0 0 0 0 0 0 0 0 0 0 0]\n",
      "[0 2 1 1 2 0 1 0 1 1 2 1 0 1 0 0 0 1 2 0 2 2 1 2 0 2 2 1 1 0 0 2]\n"
     ]
    }
   ],
   "source": [
    "print(tf.argmax(predictions, axis=1).numpy())\n",
    "print(labels.numpy())"
   ]
  },
  {
   "cell_type": "code",
   "execution_count": 94,
   "metadata": {},
   "outputs": [],
   "source": [
    "loss_object = tf.keras.losses.SparseCategoricalCrossentropy(from_logits=True)"
   ]
  },
  {
   "cell_type": "code",
   "execution_count": 101,
   "metadata": {},
   "outputs": [
    {
     "name": "stdout",
     "output_type": "stream",
     "text": [
      "Loss is 1.9927572011947632\n"
     ]
    }
   ],
   "source": [
    "def loss(model, x, y, training):\n",
    "    y_ = model(x, training=training)\n",
    "    return loss_object(y_true=y, y_pred=y_)\n",
    "\n",
    "l = loss(model, features, labels, training=False)\n",
    "print(\"Loss is {}\".format(l))"
   ]
  },
  {
   "cell_type": "code",
   "execution_count": 104,
   "metadata": {},
   "outputs": [],
   "source": [
    "def grad(model, inputs, targets):\n",
    "    with tf.GradientTape() as tape:\n",
    "        loss_value = loss(model, inputs, targets, training=True)\n",
    "    return loss_value, tape.gradient(loss_value, model.trainable_variables)"
   ]
  },
  {
   "cell_type": "code",
   "execution_count": 106,
   "metadata": {},
   "outputs": [],
   "source": [
    "optimizer = tf.keras.optimizers.SGD(lr=.01)"
   ]
  },
  {
   "cell_type": "code",
   "execution_count": 126,
   "metadata": {},
   "outputs": [
    {
     "data": {
      "text/plain": [
       "<tf.Tensor: shape=(), dtype=float32, numpy=1.833005>"
      ]
     },
     "execution_count": 126,
     "metadata": {},
     "output_type": "execute_result"
    }
   ],
   "source": [
    "loss_value, grads = grad(model, features, labels)\n",
    "\n",
    "optimizer.apply_gradients(zip(grads, model.trainable_variables))\n",
    "loss_value"
   ]
  },
  {
   "cell_type": "code",
   "execution_count": 127,
   "metadata": {},
   "outputs": [
    {
     "data": {
      "text/plain": [
       "<tf.Tensor: shape=(), dtype=float32, numpy=1.6963763>"
      ]
     },
     "execution_count": 127,
     "metadata": {},
     "output_type": "execute_result"
    }
   ],
   "source": [
    "loss(model, features, labels, training=False)"
   ]
  },
  {
   "cell_type": "code",
   "execution_count": 141,
   "metadata": {},
   "outputs": [
    {
     "name": "stdout",
     "output_type": "stream",
     "text": [
      "Epoch: 000 Loss: 0.991 Accuracy: 52.500%\n",
      "Epoch: 050 Loss: 0.367 Accuracy: 95.000%\n",
      "Epoch: 100 Loss: 0.217 Accuracy: 96.667%\n",
      "Epoch: 150 Loss: 0.153 Accuracy: 97.500%\n",
      "Epoch: 200 Loss: 0.126 Accuracy: 97.500%\n"
     ]
    }
   ],
   "source": [
    "model = keras.models.clone_model(model)\n",
    "train_loss_results = []\n",
    "train_accuracy_results = []\n",
    "\n",
    "num_epochs = 201\n",
    "\n",
    "for epoch in range(num_epochs):\n",
    "    epoch_loss_avg = tf.keras.metrics.Mean()\n",
    "    epoch_accuracy = tf.keras.metrics.SparseCategoricalAccuracy()\n",
    "    for x,y in train_dataset:\n",
    "        loss_value, grads = grad(model, x, y)\n",
    "        optimizer.apply_gradients(zip(grads, model.trainable_variables))\n",
    "        epoch_loss_avg.update_state(loss_value)\n",
    "        epoch_accuracy.update_state(y, model(x, training=True))\n",
    "    train_loss_results.append(epoch_loss_avg.result())\n",
    "    train_accuracy_results.append(epoch_accuracy.result())    \n",
    "    \n",
    "    if epoch % 50 == 0:\n",
    "        print(\"Epoch: {:03d} Loss: {:.3f} Accuracy: {:.3%}\".format(\n",
    "            epoch, epoch_loss_avg.result(), epoch_accuracy.result()\n",
    "        ))"
   ]
  },
  {
   "cell_type": "code",
   "execution_count": 143,
   "metadata": {},
   "outputs": [
    {
     "data": {
      "text/plain": [
       "[<matplotlib.lines.Line2D at 0x7f460b748950>]"
      ]
     },
     "execution_count": 143,
     "metadata": {},
     "output_type": "execute_result"
    },
    {
     "data": {
      "image/png": "[encoded data removed]",
      "text/plain": [
       "<Figure size 432x288 with 2 Axes>"
      ]
     },
     "metadata": {
      "needs_background": "light"
     },
     "output_type": "display_data"
    }
   ],
   "source": [
    "fig, axes = plt.subplots(2, sharex=True)\n",
    "\n",
    "\n",
    "axes[0].plot(train_loss_results)\n",
    "axes[1].plot(train_accuracy_results)"
   ]
  },
  {
   "cell_type": "code",
   "execution_count": 202,
   "metadata": {},
   "outputs": [
    {
     "name": "stdout",
     "output_type": "stream",
     "text": [
      "Downloading data from https://storage.googleapis.com/download.tensorflow.org/data/iris_test.csv\n",
      "8192/573 [============================================================================================================================================================================================================================================================================================================================================================================================================================================] - 0s 0us/step\n"
     ]
    }
   ],
   "source": [
    "test_url = \"https://storage.googleapis.com/download.tensorflow.org/data/iris_test.csv\"\n",
    "\n",
    "test_fp = tf.keras.utils.get_file(fname=os.path.basename(test_url),\n",
    "                                  origin=test_url,\n",
    "                                 )"
   ]
  },
  {
   "cell_type": "code",
   "execution_count": 203,
   "metadata": {},
   "outputs": [],
   "source": [
    "test_dataset = tf.data.experimental.make_csv_dataset(\n",
    "    test_fp,\n",
    "    batch_size=batch_size,\n",
    "    column_names=column_names,\n",
    "    label_name='species',\n",
    "    num_epochs=1,\n",
    "    shuffle=False)\n",
    "\n",
    "test_dataset = test_dataset.map(pack_features_vector)"
   ]
  },
  {
   "cell_type": "code",
   "execution_count": 204,
   "metadata": {},
   "outputs": [
    {
     "name": "stdout",
     "output_type": "stream",
     "text": [
      "Accuracy: 1.0\n"
     ]
    }
   ],
   "source": [
    "test_accuracy = tf.keras.metrics.Accuracy()\n",
    "\n",
    "for x, y in test_dataset:\n",
    "    logits = model(x, training=False)\n",
    "    prediction = tf.argmax(logits, axis=1, output_type=tf.int32)\n",
    "    test_accuracy(y_true=y, y_pred=prediction)\n",
    "    \n",
    "print(\"Accuracy: {}\".format(test_accuracy.result()))"
   ]
  },
  {
   "cell_type": "code",
   "execution_count": null,
   "metadata": {},
   "outputs": [],
   "source": []
  }
 ],
 "metadata": {
  "kernelspec": {
   "display_name": "Python 3",
   "language": "python",
   "name": "python3"
  },
  "language_info": {
   "codemirror_mode": {
    "name": "ipython",
    "version": 3
   },
   "file_extension": ".py",
   "mimetype": "text/x-python",
   "name": "python",
   "nbconvert_exporter": "python",
   "pygments_lexer": "ipython3",
   "version": "3.7.7"
  }
 },
 "nbformat": 4,
 "nbformat_minor": 4
}
