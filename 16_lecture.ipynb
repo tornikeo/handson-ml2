{
 "cells": [
  {
   "cell_type": "code",
   "execution_count": 1,
   "metadata": {},
   "outputs": [],
   "source": [
    "import tensorflow as tf\n",
    "import tensorflow.keras as keras\n",
    "import numpy as np\n",
    "import os\n",
    "import sklearn as sk\n",
    "import matplotlib.pyplot as plt\n",
    "import tensorflow_hub as hub\n",
    "import tensorflow_datasets as tfds\n",
    "%matplotlib inline"
   ]
  },
  {
   "cell_type": "code",
   "execution_count": 12,
   "metadata": {},
   "outputs": [],
   "source": [
    "ds, ds_info = tfds.load('imdb_reviews', as_supervised=True, with_info=True)"
   ]
  },
  {
   "cell_type": "code",
   "execution_count": 34,
   "metadata": {},
   "outputs": [],
   "source": [
    "model = keras.models.Sequential([\n",
    "    hub.KerasLayer(\"https://tfhub.dev/google/nnlm-en-dim50/2\",\n",
    "                           input_shape=[], output_shape=[50], dtype=tf.string),\n",
    "    keras.layers.Dense(300, activation='relu'),\n",
    "    keras.layers.Dense(300, activation='relu'),\n",
    "    keras.layers.Dense(300, activation='relu'),\n",
    "    keras.layers.Dense(1, activation='sigmoid'),\n",
    "])\n",
    "model.compile(loss='binary_crossentropy',\n",
    "             optimizer=keras.optimizers.Adam(lr=1e-3),\n",
    "             metrics=['accuracy'])"
   ]
  },
  {
   "cell_type": "code",
   "execution_count": 35,
   "metadata": {},
   "outputs": [
    {
     "name": "stdout",
     "output_type": "stream",
     "text": [
      "Train for 781 steps, validate for 31 steps\n",
      "Epoch 1/5\n",
      "781/781 [==============================] - 16s 20ms/step - loss: 0.5318 - accuracy: 0.7349 - val_loss: 0.5551 - val_accuracy: 0.7177\n",
      "Epoch 2/5\n",
      "781/781 [==============================] - 17s 22ms/step - loss: 0.5081 - accuracy: 0.7505 - val_loss: 0.5527 - val_accuracy: 0.7298\n",
      "Epoch 3/5\n",
      "781/781 [==============================] - 17s 22ms/step - loss: 0.5009 - accuracy: 0.7559 - val_loss: 0.5492 - val_accuracy: 0.7359\n",
      "Epoch 4/5\n",
      "781/781 [==============================] - 17s 21ms/step - loss: 0.4940 - accuracy: 0.7592 - val_loss: 0.5523 - val_accuracy: 0.7399\n",
      "Epoch 5/5\n",
      "781/781 [==============================] - 15s 19ms/step - loss: 0.4867 - accuracy: 0.7646 - val_loss: 0.5635 - val_accuracy: 0.7258\n"
     ]
    }
   ],
   "source": [
    "batch_size = 32\n",
    "\n",
    "train_size = ds_info.splits['train'].num_examples\n",
    "valid_size = 1000\n",
    "test_size = ds_info.splits['test'].num_examples\n",
    "\n",
    "train_ds = ds['train'].repeat().batch(batch_size).prefetch(1)\n",
    "valid_ds = ds['test'].take(valid_size).repeat().batch(batch_size).prefetch(1)\n",
    "test_ds = ds['test'].skip(valid_size)\n",
    "s\n",
    "\n",
    "\n",
    "history = model.fit(train_ds, \n",
    "                     steps_per_epoch=train_size // batch_size,\n",
    "                     validation_data=valid_ds,\n",
    "                     validation_steps=valid_size // batch_size,\n",
    "                     epochs=2)"
   ]
  },
  {
   "cell_type": "code",
   "execution_count": 36,
   "metadata": {},
   "outputs": [
    {
     "data": {
      "image/png": "[encoded data removed]",
      "text/plain": [
       "<Figure size 432x288 with 1 Axes>"
      ]
     },
     "metadata": {
      "needs_background": "light"
     },
     "output_type": "display_data"
    }
   ],
   "source": [
    "plt.plot(history.history['loss'])\n",
    "plt.plot(history.history['val_loss'])\n",
    "plt.show()"
   ]
  },
  {
   "cell_type": "code",
   "execution_count": null,
   "metadata": {},
   "outputs": [],
   "source": []
  }
 ],
 "metadata": {
  "kernelspec": {
   "display_name": "Python 3",
   "language": "python",
   "name": "python3"
  },
  "language_info": {
   "codemirror_mode": {
    "name": "ipython",
    "version": 3
   },
   "file_extension": ".py",
   "mimetype": "text/x-python",
   "name": "python",
   "nbconvert_exporter": "python",
   "pygments_lexer": "ipython3",
   "version": "3.7.7"
  }
 },
 "nbformat": 4,
 "nbformat_minor": 4
}
